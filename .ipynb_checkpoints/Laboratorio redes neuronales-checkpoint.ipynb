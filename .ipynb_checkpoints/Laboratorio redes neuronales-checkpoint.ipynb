{
 "cells": [
  {
   "cell_type": "markdown",
   "metadata": {},
   "source": [
    "### Laboratorio redes neuronales\n"
   ]
  },
  {
   "cell_type": "code",
   "execution_count": 10,
   "metadata": {},
   "outputs": [],
   "source": [
    "\"\"\"\n",
    "Universidad del Valle de Guatemala\n",
    "Inteligencia Artificial\n",
    "Catedrático: Samuel Chavez\n",
    "Pablo Viana - 16091\n",
    "\"\"\"\n",
    "\n",
    "#Importamos librerias que vamos a utilizar\n",
    "import numpy as np\n",
    "import sys\n",
    "from functools import reduce\n",
    "from sklearn.model_selection import train_test_split\n",
    "import time\n",
    "from scipy import optimize as op\n",
    "sys.path.insert(1, 'fashion-mnist/utils')\n",
    "\n",
    "#importamos mnist_reader\n",
    "import mnist_reader\n"
   ]
  },
  {
   "cell_type": "code",
   "execution_count": 11,
   "metadata": {},
   "outputs": [],
   "source": [
    "# ---- Funciones extraídas o basadas a las presentadas en clases virtuales ----\n",
    "\n",
    "#funcion sigmoide para cada a\n",
    "def sigmoide(x):\n",
    "    return 1.0/(1.0 + np.exp(-x))\n",
    "\n",
    "#Algoritmo de feed forward\n",
    "def feed_forward(thetas, X):\n",
    "    a = [X] #50,000 x 784\n",
    "    \n",
    "    for i in range(len(thetas)):\n",
    "        a.append(\n",
    "            sigmoide(\n",
    "                np.matmul( \n",
    "                    np.hstack({\n",
    "                        np.ones(len(X)).reshape(len(X),1), # 50,000 x 785\n",
    "                        a[i]\n",
    "                    }),\n",
    "                    thetas[i].T #785, 150\n",
    "                )\n",
    "            )\n",
    "        )\n",
    "    return a"
   ]
  },
  {
   "cell_type": "code",
   "execution_count": 12,
   "metadata": {},
   "outputs": [],
   "source": [
    "#funciones para \"apachar\" matrices e \"inflar\" arrays\n",
    "\n",
    "flatten_arrays = lambda list_of_arrays: reduce(\n",
    "    lambda acc, v: np.array([*acc.flatten(), *v.flatten()]),\n",
    "    list_of_arrays\n",
    ")\n",
    "\n",
    "def inflate_matrixes(flat_thetas, shapes):\n",
    "    layers = len(shapes) + 1\n",
    "    sizes = [shape[0] * shape[1] for shape in shapes]\n",
    "    steps = np.zeros(layers, dtype=int)\n",
    "    \n",
    "    for i in range(layers - 1):\n",
    "        steps[i+1] = steps[i] + sizes[i]\n",
    "    \n",
    "    return [\n",
    "        flat_thetas[steps[i]: steps[i+1]].reshape(*shapes[i])\n",
    "        for i in range(layers - 1)\n",
    "    ]\n",
    "\n"
   ]
  },
  {
   "cell_type": "code",
   "execution_count": 13,
   "metadata": {},
   "outputs": [],
   "source": [
    "#Función de costo\n",
    "def cost_function(flat_thetas, shapes, X, Y):\n",
    "    X = flatten_arrays(X)\n",
    "    a = feed_forward(\n",
    "        inflate_matrixes(flat_thetas, shapes),\n",
    "        X\n",
    "    )\n",
    "    return -(Y * np.log(a[-1]) + (1-Y) * np.log(1-a[-1])).sum() / len(X)"
   ]
  },
  {
   "cell_type": "code",
   "execution_count": 15,
   "metadata": {},
   "outputs": [],
   "source": [
    "#Back propagation\n",
    "def back_prop(flat_thetas, shapes, X, Y):\n",
    "    m, layers = len(X), len(shapes) + 1\n",
    "    thetas = inflate_matrixes(flat_thetas, shapes)\n",
    "    a = feed_forward(thetas, X)\n",
    "    \n",
    "    deltas = [*range(layers - 1), a[-1] - Y]\n",
    "    for i in range(layers - 2, 0, -1):\n",
    "        deltas[i] = (deltas[i + 1] @ np.delete(thetas[i], 0, 1)) * (a[i] * (1 - a[i]))\n",
    "\n",
    "    D = []\n",
    "    for i in range(layers - 1):\n",
    "        D.append(\n",
    "            (deltas[i + 1].T\n",
    "            @\n",
    "            np.hstack((\n",
    "                np.ones(len(a[i])).reshape(len(a[i]), 1),\n",
    "                a[i]\n",
    "            ))) / m\n",
    "        )\n",
    "    D = np.asarray(D)\n",
    "\n",
    "    return flatten_list_of_arrays(D)\n"
   ]
  },
  {
   "cell_type": "code",
   "execution_count": 16,
   "metadata": {},
   "outputs": [
    {
     "name": "stdout",
     "output_type": "stream",
     "text": [
      "(60000, 784)\n",
      "(60000,)\n",
      "(10000, 784)\n",
      "(10000,)\n"
     ]
    }
   ],
   "source": [
    "#Leemos los datos de entenamiento y test\n",
    "X_train, y_train = mnist_reader.load_mnist('fashion-mnist/data/fashion',kind='train')\n",
    "X_test, y_test = mnist_reader.load_mnist('fashion-mnist/data/fashion', kind='t10k')\n",
    "\n",
    "\"\"\"\n",
    "#Dividimos el dataset para obtener una particion de validación\n",
    "ind1 = np.random.choice(range(X_train.shape[0]),50000,replace=False)\n",
    "ind2 = list(set(range(X_train.shape[0])) - set(ind1))\n",
    "\n",
    "X_trainew = X_train[ind1, :]\n",
    "y_trainew = y_train[ind1].reshape(X_trainew.shape[0],1)\n",
    "X_val = X_train[ind2, :]\n",
    "y_val = y_train[ind2].reshape(y_test.shape[0],1)\n",
    "\"\"\"\n",
    "print(np.shape(X_train))\n",
    "print(np.shape(y_train))\n",
    "print(np.shape(X_test))\n",
    "print(np.shape(y_test))"
   ]
  },
  {
   "cell_type": "markdown",
   "metadata": {},
   "source": [
    "#### Hacemos corrida de red neuronal"
   ]
  },
  {
   "cell_type": "code",
   "execution_count": 17,
   "metadata": {},
   "outputs": [],
   "source": [
    "input_ = X_train.shape[1]\n",
    "\n",
    "#Especificamos capas de entrada, escondidas, y de salida para la red neuronal\n",
    "nn_neurons = np.array([\n",
    "    input_,\n",
    "    1,\n",
    "    10\n",
    "])\n",
    "\n",
    "\"\"\"\n",
    "Si la red neuronal tiene Sj unidades en la capa j y S(j+1) en la cada j + 1\n",
    "=> la shape de la matriz de transicion thetaj es S(j+1) x Sj + 1\n",
    "\"\"\" \n",
    "shape_matrix_thetas_transicion = np.hstack((\n",
    "    nn_neurons[1:].reshape(len(nn_neurons) - 1, 1),\n",
    "    (nn_neurons[:-1] + 1).reshape(len(nn_neurons) - 1, 1)\n",
    "))\n",
    "\n",
    "#Proceso de volver poblar la matriz y volverla un array \"aplanar\" \n",
    "random_thetas = flatten_arrays([\n",
    "    np.random.rand(*shape_matrix_thetas_transicion)\n",
    "    for shape_matrix_thetas_transicion in shape_matrix_thetas_transicion\n",
    "])\n"
   ]
  },
  {
   "cell_type": "code",
   "execution_count": 18,
   "metadata": {},
   "outputs": [],
   "source": [
    "#Preparamos los datasets para utilizarlos en la función minimize\n",
    "X_ = np.vstack((\n",
    "    X_train,\n",
    "    X_test\n",
    "))\n",
    "\n",
    "Y_ = np.vstack((\n",
    "    y_train.reshape(60000,1),\n",
    "    y_test.reshape(10000,1)\n",
    "))\n"
   ]
  },
  {
   "cell_type": "markdown",
   "metadata": {},
   "source": [
    "#### Optimización de los thetas por medio de función minimize"
   ]
  },
  {
   "cell_type": "code",
   "execution_count": 21,
   "metadata": {},
   "outputs": [
    {
     "ename": "SyntaxError",
     "evalue": "invalid syntax (<ipython-input-21-26889c90e2a2>, line 10)",
     "output_type": "error",
     "traceback": [
      "\u001b[1;36m  File \u001b[1;32m\"<ipython-input-21-26889c90e2a2>\"\u001b[1;36m, line \u001b[1;32m10\u001b[0m\n\u001b[1;33m    options = {'disp': True, 'maxiter': 300}\u001b[0m\n\u001b[1;37m    ^\u001b[0m\n\u001b[1;31mSyntaxError\u001b[0m\u001b[1;31m:\u001b[0m invalid syntax\n"
     ]
    }
   ],
   "source": [
    "print(\"EMPIEZA OPTIMIZECION DE THETAS\")\n",
    "\n",
    "inicio = time.time()\n",
    "thetas_optimize = op.minimize(\n",
    "    fun = cost_function,\n",
    "    x0 = random_thetas,\n",
    "    args = (shape_matrix_thetas_transicion, X_, Y_),\n",
    "    method = 'L-BFGS-B',\n",
    "    jac = back_prop,\n",
    "    options = {'disp': True, 'maxiter': 3000}\n",
    ")\n",
    "final = time.time()\n",
    "t_total = final - inicio\n",
    "\n",
    "print(\"OPTIMIZECION TERMINADA tiempo de ejecucion:{}\".format(t_total))\n",
    "\n",
    "#Para asegurar estos thetas generados tras el proceso de optimizacion los guardamos\n",
    "np.save(top,thetas_optimize.x)"
   ]
  },
  {
   "cell_type": "code",
   "execution_count": null,
   "metadata": {},
   "outputs": [],
   "source": [
    "X = flatten_arrays(X_train)\n",
    "\n",
    "thetas = np.load(top)\n",
    "\n",
    "print(\"PREDICIENDO\")\n",
    "inicio2 = time.time()\n",
    "a = feed_forward(thetas, X)\n",
    "final2 = time.time()\n",
    "tiempotot = final2 - inicio2\n",
    "print(\"TERMINADO en {}\".format(tiempotot))\n",
    "maximos = np.argmax(a[-1], axis = 1)\n",
    "\n",
    "success = 0\n",
    "for i in range(len(a[-1])):\n",
    "    if (maximos[i] == y_test[i][0]):\n",
    "        success += 1\n",
    "        \n",
    "print(\"Success: \", success, success * 100/len(a[-1]))"
   ]
  },
  {
   "cell_type": "code",
   "execution_count": null,
   "metadata": {},
   "outputs": [],
   "source": []
  },
  {
   "cell_type": "code",
   "execution_count": null,
   "metadata": {},
   "outputs": [],
   "source": []
  },
  {
   "cell_type": "code",
   "execution_count": null,
   "metadata": {},
   "outputs": [],
   "source": []
  }
 ],
 "metadata": {
  "kernelspec": {
   "display_name": "Python 3",
   "language": "python",
   "name": "python3"
  },
  "language_info": {
   "codemirror_mode": {
    "name": "ipython",
    "version": 3
   },
   "file_extension": ".py",
   "mimetype": "text/x-python",
   "name": "python",
   "nbconvert_exporter": "python",
   "pygments_lexer": "ipython3",
   "version": "3.8.2"
  }
 },
 "nbformat": 4,
 "nbformat_minor": 4
}

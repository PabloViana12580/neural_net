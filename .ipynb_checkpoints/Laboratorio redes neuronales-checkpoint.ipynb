{
 "cells": [
  {
   "cell_type": "markdown",
   "metadata": {},
   "source": [
    "### Laboratorio redes neuronales\n"
   ]
  },
  {
   "cell_type": "code",
   "execution_count": 1,
   "metadata": {},
   "outputs": [],
   "source": [
    "\"\"\"\n",
    "Universidad del Valle de Guatemala\n",
    "Inteligencia Artificial\n",
    "Catedrático: Samuel Chavez\n",
    "Pablo Viana - 16091\n",
    "\"\"\"\n",
    "\n",
    "#Importamos librerias que vamos a utilizar\n",
    "import numpy as np\n",
    "import sys\n",
    "from functools import reduce\n",
    "from sklearn.model_selection import train_test_split\n",
    "import time\n",
    "from scipy import optimize as op\n",
    "sys.path.insert(1, 'fashion-mnist/utils')\n",
    "\n",
    "#importamos mnist_reader\n",
    "import mnist_reader\n"
   ]
  },
  {
   "cell_type": "code",
   "execution_count": 2,
   "metadata": {},
   "outputs": [],
   "source": [
    "# ---- Funciones extraídas o basadas a las presentadas en clases virtuales ----\n",
    "flatten_arrays = lambda list_of_arrays: reduce(\n",
    "    lambda acc, v: np.array([*acc.flatten(), *v.flatten()]),\n",
    "    list_of_arrays\n",
    ")\n",
    "\n",
    "#funcion sigmoide para cada a\n",
    "def sigmoid(x):\n",
    "    return 1.0/(1.0 + np.exp(-x))\n",
    "\n",
    "def feed_forward(thetas, X):\n",
    "    # Lista de activaciones\n",
    "    a = [X] \n",
    "    for i in range(len(thetas)): \n",
    "        a.append(\n",
    "            # a\n",
    "            sigmoid(\n",
    "                # z\n",
    "                np.matmul(\n",
    "                    # agrega bias\n",
    "                    np.hstack((\n",
    "                        np.ones(len(a[i])).reshape(len(a[i]), 1),\n",
    "                        a[i]\n",
    "                    )),\n",
    "                    thetas[i].T\n",
    "                )\n",
    "            )\n",
    "        )\n",
    "    return a"
   ]
  },
  {
   "cell_type": "code",
   "execution_count": 3,
   "metadata": {},
   "outputs": [],
   "source": [
    "#funciones para \"apachar\" e \"inflar\" matrices\n",
    "def inflate_matrixes(flat_thetas, shapes):\n",
    "    layers = len(shapes) + 1\n",
    "    sizes = [shape[0] * shape[1] for shape in shapes]\n",
    "    steps = np.zeros(layers, dtype=int)\n",
    "    \n",
    "    for i in range(layers - 1):\n",
    "        steps[i+1] = steps[i] + sizes[i]\n",
    "    \n",
    "    return [\n",
    "        flat_thetas[steps[i]: steps[i+1]].reshape(*shapes[i])\n",
    "        for i in range(layers - 1)\n",
    "    ]\n",
    "\n",
    "def flatmat(list_):\n",
    "    flat = []\n",
    "    for matrix in list_:\n",
    "        flat = [*flat,*(matrix.flatten())]\n",
    "    return np.array(flat).flatten()"
   ]
  },
  {
   "cell_type": "code",
   "execution_count": 4,
   "metadata": {},
   "outputs": [],
   "source": [
    "#Función de costo\n",
    "def cost_function(flat_thetas, shapes, X, Y):\n",
    "    a = feed_forward(\n",
    "        inflate_matrixes(flat_thetas, shapes),\n",
    "        X\n",
    "    )\n",
    "    return -(Y * np.log(a[-1]) + (1-Y) * np.log(1-a[-1])).sum() / len(X)"
   ]
  },
  {
   "cell_type": "code",
   "execution_count": 5,
   "metadata": {},
   "outputs": [],
   "source": [
    "#Back propagation\n",
    "def back_prop(flat_thetas, shapes, X, Y):\n",
    "    deltas = []\n",
    "    m, layers = len(X), len(shapes) + 1\n",
    "    thetas = inflate_matrixes(flat_thetas, shapes)\n",
    "    a = feed_forward(thetas, X)\n",
    "    \n",
    "    deltas = [*range(layers - 1), a[-1] - Y]\n",
    "    for i in range(layers - 2, 0, -1):\n",
    "        deltas[i] = np.matmul(deltas[i+1], (thetas[i])[:,1:]) * (a[i] * (1 - a[i]))\n",
    "\n",
    "    D = []\n",
    "    for i in range(layers - 1):\n",
    "        D.append((np.matmul(\n",
    "        deltas[i+1].T,\n",
    "        np.hstack((\n",
    "                    np.ones(len(a[i])).reshape(len(a[i]), 1),\n",
    "                    a[i]\n",
    "                ))\n",
    "        )) /m)\n",
    "\n",
    "    return flatmat(D)\n"
   ]
  },
  {
   "cell_type": "code",
   "execution_count": 6,
   "metadata": {},
   "outputs": [
    {
     "data": {
      "text/plain": [
       "array([0., 0., 0., 0., 0., 0., 0., 0., 0., 1.])"
      ]
     },
     "execution_count": 6,
     "metadata": {},
     "output_type": "execute_result"
    }
   ],
   "source": [
    "#Leemos los datos de entenamiento y test\n",
    "X_train, y_train = mnist_reader.load_mnist('fashion-mnist/data/fashion',kind='train')\n",
    "X_test, y_test = mnist_reader.load_mnist('fashion-mnist/data/fashion', kind='t10k')\n",
    "\n",
    "\"\"\"\n",
    "#Dividimos el dataset para obtener una particion de validación\n",
    "ind1 = np.random.choice(range(X_train.shape[0]),50000,replace=False)\n",
    "ind2 = list(set(range(X_train.shape[0])) - set(ind1))\n",
    "\n",
    "X_trainew = X_train[ind1, :]\n",
    "y_trainew = y_train[ind1].reshape(X_trainew.shape[0],1)\n",
    "X_val = X_train[ind2, :]\n",
    "y_val = y_train[ind2].reshape(y_test.shape[0],1)\n",
    "\"\"\"\n",
    "#Normalizamos los datos de entrenamiento\n",
    "X = X_train / 1000\n",
    "m,n = X.shape\n",
    "\n",
    "#Ajustamos el shape para que tenga la forma (10,1)\n",
    "Y= np.zeros((X.shape[0], 10))\n",
    "for i in range(m):\n",
    "    Y[i][y_train[i]] = 1\n",
    "\n",
    "Y[0]"
   ]
  },
  {
   "cell_type": "markdown",
   "metadata": {},
   "source": [
    "#### Hacemos corrida de red neuronal"
   ]
  },
  {
   "cell_type": "code",
   "execution_count": 7,
   "metadata": {},
   "outputs": [],
   "source": [
    "#Especificamos capas de entrada, escondidas, y de salida para la red neuronal\n",
    "HIDDEN_NEURONS = 120\n",
    "OUTPUT_NEURONS = 10\n",
    "\n",
    "\"\"\"\n",
    "Si la red neuronal tiene Sj unidades en la capa j y S(j+1) en la cada j + 1\n",
    "=> la shape de la matriz de transicion thetaj es S(j+1) x Sj + 1\n",
    "\"\"\" \n",
    "theta_shapes = np.array([\n",
    "    [HIDDEN_NEURONS, n + 1],\n",
    "    [OUTPUT_NEURONS, HIDDEN_NEURONS + 1]\n",
    "])\n",
    "\n",
    "#Proceso de volver poblar la matriz y volverla un array \"aplanar\" \n",
    "random_thetas = flatten_arrays([\n",
    "    np.random.rand(*theta_shapes) / 1000\n",
    "    for theta_shapes in theta_shapes\n",
    "])\n"
   ]
  },
  {
   "cell_type": "markdown",
   "metadata": {},
   "source": [
    "#### Optimización de los thetas por medio de función minimize"
   ]
  },
  {
   "cell_type": "code",
   "execution_count": 8,
   "metadata": {},
   "outputs": [
    {
     "name": "stdout",
     "output_type": "stream",
     "text": [
      "EMPIEZA OPTIMIZACION DE THETAS\n",
      "OPTIMIZACION TERMINADA tiempo de ejecucion:287.33113169670105\n"
     ]
    }
   ],
   "source": [
    "print(\"EMPIEZA OPTIMIZACION DE THETAS\")\n",
    "\n",
    "inicio = time.time()\n",
    "thetas_optimize = op.minimize(\n",
    "    fun = cost_function,\n",
    "    x0 = random_thetas,\n",
    "    args = (theta_shapes, X, Y),\n",
    "    method = 'L-BFGS-B',\n",
    "    jac = back_prop,\n",
    "    options = {'disp': True, 'maxiter': 100}\n",
    ")\n",
    "final = time.time()\n",
    "t_total = final - inicio\n",
    "\n",
    "print(\"OPTIMIZACION TERMINADA tiempo de ejecucion:{}\".format(t_total))\n"
   ]
  },
  {
   "cell_type": "code",
   "execution_count": 11,
   "metadata": {},
   "outputs": [],
   "source": [
    "#Para asegurar estos thetas generados tras el proceso de optimizacion los guardamos\n",
    "np.save('top',thetas_optimize.x)"
   ]
  },
  {
   "cell_type": "code",
   "execution_count": 10,
   "metadata": {},
   "outputs": [
    {
     "name": "stdout",
     "output_type": "stream",
     "text": [
      "PREDICIENDO\n",
      "TERMINADO en 0.14760732650756836\n",
      "Buenas:  8240\n",
      "Malas:  1760\n",
      "Porcentaje de efectividad del modelo:  82.4\n"
     ]
    }
   ],
   "source": [
    "#thetas = np.load(top)\n",
    "thetas = np.load('top.npy')\n",
    "thetasop = inflate_matrixes(thetas, theta_shapes)\n",
    "\n",
    "X = X_test/1000.0\n",
    "m, n = X.shape\n",
    "Y = np.zeros((X.shape[0], 10))\n",
    "for i in range(m):\n",
    "    Y[i][y_test[i]] = 1\n",
    "\n",
    "print(\"PREDICIENDO\")\n",
    "inicio2 = time.time()\n",
    "a = feed_forward(thetasop, X)\n",
    "final2 = time.time()\n",
    "tiempotot = final2 - inicio2\n",
    "print(\"TERMINADO en {}\".format(tiempotot))\n",
    "\n",
    "resultados_correctos = np.argmax(a[-1], axis = 1)\n",
    "buenas = 0\n",
    "for i in range(len(a[-1])):\n",
    "    if (resultados_correctos[i] == y_test[i]):\n",
    "        buenas += 1\n",
    "    \n",
    "malas = len(resultados_correctos) - buenas\n",
    "        \n",
    "        \n",
    "print(\"Buenas: \", buenas)\n",
    "print(\"Malas: \", malas)\n",
    "print(\"Porcentaje de efectividad del modelo: \",buenas * 100/len(a[-1]))"
   ]
  }
 ],
 "metadata": {
  "kernelspec": {
   "display_name": "Python 3",
   "language": "python",
   "name": "python3"
  },
  "language_info": {
   "codemirror_mode": {
    "name": "ipython",
    "version": 3
   },
   "file_extension": ".py",
   "mimetype": "text/x-python",
   "name": "python",
   "nbconvert_exporter": "python",
   "pygments_lexer": "ipython3",
   "version": "3.7.3"
  }
 },
 "nbformat": 4,
 "nbformat_minor": 4
}
